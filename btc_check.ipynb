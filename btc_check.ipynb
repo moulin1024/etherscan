{
 "cells": [
  {
   "cell_type": "code",
   "execution_count": null,
   "metadata": {},
   "outputs": [],
   "source": [
    "import blockchain as bc\n",
    "from datetime import datetime\n",
    "import pandas as pd\n",
    "import matplotlib.pyplot as plt\n",
    "import numpy as np\n",
    "import random\n",
    "import time\n",
    "\n",
    "df_total = pd.read_csv('bitcoin_addresses.csv')\n",
    "\n",
    "for address in df_total['Address'][:10]:\n",
    "    print(address)\n",
    "    # address = \"34xp4vRoCGJym3xR7yCVPFHoCNxv4Twseo\"  # Replace with your Bitcoin address\n",
    "    cum_probablity = np.zeros(25)\n",
    "    time_zones, probabilities = bc.guess_time_zones(address)\n",
    "    cum_probablity = cum_probablity+probabilities\n",
    "\n",
    "    # Generate a random time delay between 1 and 5 seconds\n",
    "    time_lag = random.uniform(1, 2)\n",
    "    \n",
    "    # Sleep for the random time delay\n",
    "    time.sleep(time_lag)\n"
   ]
  }
 ],
 "metadata": {
  "kernelspec": {
   "display_name": "base",
   "language": "python",
   "name": "python3"
  },
  "language_info": {
   "codemirror_mode": {
    "name": "ipython",
    "version": 3
   },
   "file_extension": ".py",
   "mimetype": "text/x-python",
   "name": "python",
   "nbconvert_exporter": "python",
   "pygments_lexer": "ipython3",
   "version": "3.11.3"
  },
  "orig_nbformat": 4
 },
 "nbformat": 4,
 "nbformat_minor": 2
}
