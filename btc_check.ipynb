{
 "cells": [
  {
   "cell_type": "code",
   "execution_count": 4,
   "metadata": {},
   "outputs": [
    {
     "name": "stdout",
     "output_type": "stream",
     "text": [
      "34xp4vRoCGJym3xR7yCVPFHoCNxv4Twseo  UTC -7\n",
      "bc1qgdjqv0av3q56jvd82tkdjpy7gdp9ut8tlqmgrpmv24sq90ecnvqqjwvw97  UTC 6\n",
      "3M219KR5vEneNb47ewrPfWyb5jQ2DjxRP6  UTC -7\n",
      "bc1ql49ydapnjafl5t2cp9zqpjwe6pdgmxy98859v2  UTC -3\n",
      "bc1qazcm763858nkj2dj986etajv6wquslv8uxwczt  UTC -4\n",
      "1FeexV6bAHb8ybZjqQMjJrcCrHGW9sb6uF  UTC 6\n",
      "bc1qjasf9z3h7w3jspkhtgatgpyvvzgpa2wwd2lr0eh5tx44reyn2k7sfc27a4  UTC 7\n",
      "bc1qd4ysezhmypwty5dnw7c8nqy5h5nxg0xqsvaefd0qn5kq32vwnwqqgv4rzr  UTC 7\n",
      "bc1qa5wkgaew2dkv56kfvj49j0av5nml45x9ek9hz6  UTC -6\n",
      "1Ay8vMC7R1UbyCCZRVULMV7iQpHSAbguJP  UTC -6\n"
     ]
    }
   ],
   "source": [
    "import blockchain as bc\n",
    "from datetime import datetime\n",
    "import pandas as pd\n",
    "import matplotlib.pyplot as plt\n",
    "import numpy as np\n",
    "import random\n",
    "import time\n",
    "\n",
    "df_total = pd.read_csv('bitcoin_addresses.csv')\n",
    "\n",
    "for address in df_total['Address'][:10]:\n",
    "    \n",
    "    guessed_timezone = bc.guess_time_zones(address)\n",
    "    print(address,\" UTC\", guessed_timezone)\n",
    "    # Generate a random time delay between 1 and 5 seconds\n",
    "    time_lag = random.uniform(1, 2)\n",
    "    # Sleep for the random time delay\n",
    "    time.sleep(time_lag)\n"
   ]
  },
  {
   "cell_type": "code",
   "execution_count": null,
   "metadata": {},
   "outputs": [],
   "source": []
  }
 ],
 "metadata": {
  "kernelspec": {
   "display_name": "base",
   "language": "python",
   "name": "python3"
  },
  "language_info": {
   "codemirror_mode": {
    "name": "ipython",
    "version": 3
   },
   "file_extension": ".py",
   "mimetype": "text/x-python",
   "name": "python",
   "nbconvert_exporter": "python",
   "pygments_lexer": "ipython3",
   "version": "3.11.3"
  },
  "orig_nbformat": 4
 },
 "nbformat": 4,
 "nbformat_minor": 2
}
